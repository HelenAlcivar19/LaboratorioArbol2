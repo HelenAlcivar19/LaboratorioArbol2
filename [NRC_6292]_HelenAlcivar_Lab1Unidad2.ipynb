{
 "cells": [
  {
   "cell_type": "code",
   "execution_count": 1,
   "id": "f27c9605",
   "metadata": {},
   "outputs": [
    {
     "name": "stdout",
     "output_type": "stream",
     "text": [
      "Importacion de las librerias que seran módulos necesarios para el desarrollo el algoritmo de arboles de decisión en el desarrollo del laboratorio \n"
     ]
    }
   ],
   "source": [
    "def importlibrerias():\n",
    "\n",
    "    '''Importacion de las librerias que seran módulos necesarios para el desarrollo el algoritmo de arboles de decisión en el desarrollo del laboratorio '''\n",
    "import pandas as pd\n",
    "from sklearn.tree import DecisionTreeClassifier\n",
    "from sklearn.model_selection import train_test_split\n",
    "from sklearn import metrics\n",
    "from sklearn.preprocessing import LabelEncoder\n",
    "print(importlibrerias.__doc__)"
   ]
  },
  {
   "cell_type": "code",
   "execution_count": 27,
   "id": "6da63c3b",
   "metadata": {},
   "outputs": [
    {
     "name": "stdout",
     "output_type": "stream",
     "text": [
      "      ID  No_Pation Gender  AGE  Urea  Cr  HbA1c  Chol   TG  HDL  LDL  VLDL  \\\n",
      "0    502      17975      F   50   4.7  46    4.9   4.2  0.9  2.4  1.4   0.5   \n",
      "1    735      34221      M   26   4.5  62    4.9   3.7  1.4  1.1  2.1   0.6   \n",
      "2    420      47975      F   50   4.7  46    4.9   4.2  0.9  2.4  1.4   0.5   \n",
      "3    680      87656      F   50   4.7  46    4.9   4.2  0.9  2.4  1.4   0.5   \n",
      "4    504      34223      M   33   7.1  46    4.9   4.9  1.0  0.8  2.0   0.4   \n",
      "..   ...        ...    ...  ...   ...  ..    ...   ...  ...  ...  ...   ...   \n",
      "995  200     454317      M   71  11.0  97    7.0   7.5  1.7  1.2  1.8   0.6   \n",
      "996  671     876534      M   31   3.0  60   12.3   4.1  2.2  0.7  2.4  15.4   \n",
      "997  669      87654      M   30   7.1  81    6.7   4.1  1.1  1.2  2.4   8.1   \n",
      "998   99      24004      M   38   5.8  59    6.7   5.3  2.0  1.6  2.9  14.0   \n",
      "999  248      24054      M   54   5.0  67    6.9   3.8  1.7  1.1  3.0   0.7   \n",
      "\n",
      "      BMI CLASS  \n",
      "0    24.0     N  \n",
      "1    23.0     N  \n",
      "2    24.0     N  \n",
      "3    24.0     N  \n",
      "4    21.0     N  \n",
      "..    ...   ...  \n",
      "995  30.0     Y  \n",
      "996  37.2    Y   \n",
      "997  27.4    Y   \n",
      "998  40.5    Y   \n",
      "999  33.0    Y   \n",
      "\n",
      "[1000 rows x 14 columns]\n",
      "Cargar y leer el conjunto de datos de diabetes mediate la librería pandas\n"
     ]
    }
   ],
   "source": [
    "def carga():\n",
    "    \n",
    "    '''Cargar y leer el conjunto de datos de diabetes mediate la librería pandas'''\n",
    "    \n",
    "datos = pd.read_csv(\"Dataset of Diabetes.csv\")\n",
    "print (datos)\n",
    "print(carga.__doc__)\n"
   ]
  },
  {
   "cell_type": "code",
   "execution_count": 3,
   "id": "00bb9eb8",
   "metadata": {},
   "outputs": [
    {
     "name": "stdout",
     "output_type": "stream",
     "text": [
      "CLASS\n",
      "N     102\n",
      "N       1\n",
      "P      53\n",
      "Y     840\n",
      "Y       4\n",
      "dtype: int64\n",
      "Seleccionamos las colunma CLASS que contienen texto y sera transformada de forma numerica\n"
     ]
    }
   ],
   "source": [
    "def selecC():\n",
    "    \n",
    "    '''Seleccionamos las colunma CLASS que contiene texto y sera transformada de forma numerica'''\n",
    "    \n",
    "print (datos.groupby(\"CLASS\").size())\n",
    "print(selecC.__doc__)"
   ]
  },
  {
   "cell_type": "code",
   "execution_count": 4,
   "id": "ac1181e9",
   "metadata": {},
   "outputs": [
    {
     "name": "stdout",
     "output_type": "stream",
     "text": [
      "Gender\n",
      "F    434\n",
      "M    565\n",
      "f      1\n",
      "dtype: int64\n",
      "Seleccionamos las colunma GENDER que contienen texto y sera transformada de forma numerica\n"
     ]
    }
   ],
   "source": [
    "def selecG():\n",
    "\n",
    "        '''Seleccionamos las colunma GENDER que contiene texto y sera transformada de forma numerica'''\n",
    "print (datos.groupby(\"Gender\").size())\n",
    "print(selecG.__doc__)"
   ]
  },
  {
   "cell_type": "code",
   "execution_count": 26,
   "id": "7a11f79f",
   "metadata": {},
   "outputs": [
    {
     "name": "stdout",
     "output_type": "stream",
     "text": [
      "      ID  No_Pation Gender  AGE  Urea  Cr  HbA1c  Chol   TG  HDL  LDL  VLDL  \\\n",
      "0    502      17975    NaN   50   4.7  46    4.9   4.2  0.9  2.4  1.4   0.5   \n",
      "1    735      34221    NaN   26   4.5  62    4.9   3.7  1.4  1.1  2.1   0.6   \n",
      "2    420      47975    NaN   50   4.7  46    4.9   4.2  0.9  2.4  1.4   0.5   \n",
      "3    680      87656    NaN   50   4.7  46    4.9   4.2  0.9  2.4  1.4   0.5   \n",
      "4    504      34223    NaN   33   7.1  46    4.9   4.9  1.0  0.8  2.0   0.4   \n",
      "..   ...        ...    ...  ...   ...  ..    ...   ...  ...  ...  ...   ...   \n",
      "995  200     454317    NaN   71  11.0  97    7.0   7.5  1.7  1.2  1.8   0.6   \n",
      "996  671     876534    NaN   31   3.0  60   12.3   4.1  2.2  0.7  2.4  15.4   \n",
      "997  669      87654    NaN   30   7.1  81    6.7   4.1  1.1  1.2  2.4   8.1   \n",
      "998   99      24004    NaN   38   5.8  59    6.7   5.3  2.0  1.6  2.9  14.0   \n",
      "999  248      24054    NaN   54   5.0  67    6.9   3.8  1.7  1.1  3.0   0.7   \n",
      "\n",
      "      BMI CLASS  \n",
      "0    24.0   NaN  \n",
      "1    23.0   NaN  \n",
      "2    24.0   NaN  \n",
      "3    24.0   NaN  \n",
      "4    21.0   NaN  \n",
      "..    ...   ...  \n",
      "995  30.0   NaN  \n",
      "996  37.2   NaN  \n",
      "997  27.4   NaN  \n",
      "998  40.5   NaN  \n",
      "999  33.0   NaN  \n",
      "\n",
      "[1000 rows x 14 columns]\n",
      "Seleccionamos las colunma GENDER y CLASS  para hacer la limpieza de datos\n"
     ]
    }
   ],
   "source": [
    "def limp():\n",
    "\n",
    "        '''Seleccionamos las colunma GENDER y CLASS  para hacer la limpieza de datos'''\n",
    "\n",
    "dataGender = {'M': 'M', 'F': 'F', 'f': 'F'}\n",
    "datos['Gender'] = datos['Gender'].map(dataGender)\n",
    "dataClass = {'N ':'N','N': 'N', 'Y':'Y', 'Y ': 'Y', 'P': 'P'}\n",
    "datos['CLASS'] = datos['CLASS'].map(dataClass)\n",
    "print (datos)\n",
    "print(limp.__doc__)\n"
   ]
  },
  {
   "cell_type": "code",
   "execution_count": 19,
   "id": "5c8f9bb7",
   "metadata": {},
   "outputs": [
    {
     "name": "stdout",
     "output_type": "stream",
     "text": [
      "CLASS\n",
      "N    103\n",
      "P     53\n",
      "Y    844\n",
      "dtype: int64\n",
      "Seleccionamos las colunma CLASS que contienen texto y sera transformada de forma numerica\n"
     ]
    }
   ],
   "source": [
    "def selecCC():\n",
    "    \n",
    "    '''Seleccionamos las colunma CLASS que contiene texto y sera transformada de forma numerica'''\n",
    "    \n",
    "print (datos.groupby(\"CLASS\").size())\n",
    "print(selecCC.__doc__)"
   ]
  },
  {
   "cell_type": "code",
   "execution_count": 20,
   "id": "0daa0bc4",
   "metadata": {},
   "outputs": [
    {
     "name": "stdout",
     "output_type": "stream",
     "text": [
      "Gender\n",
      "F    435\n",
      "M    565\n",
      "dtype: int64\n",
      "Seleccionamos las colunma GENDER que contienen texto y sera transformada de forma numerica\n"
     ]
    }
   ],
   "source": [
    "def selecGG():\n",
    "\n",
    "        '''Seleccionamos las colunma GENDER que contiene texto y sera transformada de forma numerica'''\n",
    "print (datos.groupby(\"Gender\").size())\n",
    "print(selecGG.__doc__)"
   ]
  },
  {
   "cell_type": "code",
   "execution_count": 25,
   "id": "54630cf7",
   "metadata": {},
   "outputs": [
    {
     "name": "stdout",
     "output_type": "stream",
     "text": [
      "      ID  No_Pation  Gender  AGE  Urea  Cr  HbA1c  Chol   TG  HDL  LDL  VLDL  \\\n",
      "0    502      17975     NaN   50   4.7  46    4.9   4.2  0.9  2.4  1.4   0.5   \n",
      "1    735      34221     NaN   26   4.5  62    4.9   3.7  1.4  1.1  2.1   0.6   \n",
      "2    420      47975     NaN   50   4.7  46    4.9   4.2  0.9  2.4  1.4   0.5   \n",
      "3    680      87656     NaN   50   4.7  46    4.9   4.2  0.9  2.4  1.4   0.5   \n",
      "4    504      34223     NaN   33   7.1  46    4.9   4.9  1.0  0.8  2.0   0.4   \n",
      "..   ...        ...     ...  ...   ...  ..    ...   ...  ...  ...  ...   ...   \n",
      "995  200     454317     NaN   71  11.0  97    7.0   7.5  1.7  1.2  1.8   0.6   \n",
      "996  671     876534     NaN   31   3.0  60   12.3   4.1  2.2  0.7  2.4  15.4   \n",
      "997  669      87654     NaN   30   7.1  81    6.7   4.1  1.1  1.2  2.4   8.1   \n",
      "998   99      24004     NaN   38   5.8  59    6.7   5.3  2.0  1.6  2.9  14.0   \n",
      "999  248      24054     NaN   54   5.0  67    6.9   3.8  1.7  1.1  3.0   0.7   \n",
      "\n",
      "      BMI  CLASS  \n",
      "0    24.0      0  \n",
      "1    23.0      0  \n",
      "2    24.0      0  \n",
      "3    24.0      0  \n",
      "4    21.0      0  \n",
      "..    ...    ...  \n",
      "995  30.0      0  \n",
      "996  37.2      0  \n",
      "997  27.4      0  \n",
      "998  40.5      0  \n",
      "999  33.0      0  \n",
      "\n",
      "[1000 rows x 14 columns]\n",
      "Seleccionamos las colunma GENDER que contienen texto y sera transformada de forma numerica como se visualiza M tendra\n",
      "        el valor de 0 y la ltera F tendra el valor de 1\n"
     ]
    }
   ],
   "source": [
    "def selecGe():\n",
    "\n",
    "        '''Seleccionamos las colunma GENDER que contiene texto y sera transformada de forma numerica como se visualiza M tendra\n",
    "        el valor de 0 y la ltera F tendra el valor de 1'''\n",
    "\n",
    "dataGender = {'M': 0, 'F': 1}\n",
    "datos['Gender'] = datos['Gender'].map(dataGender)\n",
    "dataClass = {'N': 0,'Y': 1, 'P': 2}\n",
    "datos['CLASS'] = datos['CLASS'].map(dataClass).fillna(0.0).astype(int)\n",
    "print (datos)\n",
    "print(selecGe.__doc__)\n"
   ]
  },
  {
   "cell_type": "code",
   "execution_count": null,
   "id": "c3544cb2",
   "metadata": {},
   "outputs": [],
   "source": []
  }
 ],
 "metadata": {
  "kernelspec": {
   "display_name": "Python 3 (ipykernel)",
   "language": "python",
   "name": "python3"
  },
  "language_info": {
   "codemirror_mode": {
    "name": "ipython",
    "version": 3
   },
   "file_extension": ".py",
   "mimetype": "text/x-python",
   "name": "python",
   "nbconvert_exporter": "python",
   "pygments_lexer": "ipython3",
   "version": "3.9.7"
  }
 },
 "nbformat": 4,
 "nbformat_minor": 5
}
